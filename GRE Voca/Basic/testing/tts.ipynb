{
 "cells": [
  {
   "cell_type": "code",
   "execution_count": 12,
   "id": "f1411b75",
   "metadata": {},
   "outputs": [
    {
     "name": "stdout",
     "output_type": "stream",
     "text": [
      "0 Microsoft Heami Desktop - Korean\n",
      "1 Microsoft David Desktop - English (United States)\n",
      "2 Microsoft Zira Desktop - English (United States)\n",
      "3 Microsoft Hazel Desktop - English (Great Britain)\n"
     ]
    },
    {
     "data": {
      "text/plain": [
       "1"
      ]
     },
     "execution_count": 12,
     "metadata": {},
     "output_type": "execute_result"
    }
   ],
   "source": [
    "import win32com.client as wincl\n",
    "\n",
    "voice = wincl.Dispatch(\"SAPI.SpVoice\")\n",
    "\n",
    "# 설치된 음성 나열\n",
    "for i, v in enumerate(voice.GetVoices()):\n",
    "    print(i, v.GetDescription())\n",
    "\n",
    "# 특정 음성 선택(예: 0번째)\n",
    "voice.Voice = voice.GetVoices().Item(3)\n",
    "\n",
    "# 속도/볼륨 조절\n",
    "voice.Rate = 0      # -10 ~ 10 (기본 0)\n",
    "voice.Volume = 100  # 0 ~ 100\n",
    "\n",
    "voice.Speak(\"what can you bring.\")\n"
   ]
  }
 ],
 "metadata": {
  "kernelspec": {
   "display_name": "torchenv",
   "language": "python",
   "name": "python3"
  },
  "language_info": {
   "codemirror_mode": {
    "name": "ipython",
    "version": 3
   },
   "file_extension": ".py",
   "mimetype": "text/x-python",
   "name": "python",
   "nbconvert_exporter": "python",
   "pygments_lexer": "ipython3",
   "version": "3.11.4"
  }
 },
 "nbformat": 4,
 "nbformat_minor": 5
}
