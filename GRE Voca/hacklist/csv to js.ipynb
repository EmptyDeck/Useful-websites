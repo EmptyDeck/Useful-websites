{
 "cells": [
  {
   "cell_type": "code",
   "execution_count": 1,
   "id": "9175f516",
   "metadata": {},
   "outputs": [
    {
     "name": "stdout",
     "output_type": "stream",
     "text": [
      "✅ 변환 완료! -> vocab.js\n"
     ]
    }
   ],
   "source": [
    "import csv\n",
    "import json\n",
    "\n",
    "# 입력 CSV 파일 경로\n",
    "input_file = \"+kor.csv\"\n",
    "\n",
    "# 결과 JS 파일 경로\n",
    "output_file = \"vocab.js\"\n",
    "\n",
    "vocab_list = []\n",
    "\n",
    "with open(input_file, newline='', encoding=\"utf-8\") as csvfile:\n",
    "    reader = csv.DictReader(csvfile)\n",
    "    for row in reader:\n",
    "        word = row[\"영단어\"].strip()\n",
    "        synonym = row[\"동의어\"].strip()\n",
    "        definition = row[\"뜻\"].strip()\n",
    "        \n",
    "        # 영단어 먼저 추가\n",
    "        vocab_list.append({\"word\": word, \"definition\": definition})\n",
    "\n",
    "        # 동의어가 있으면 따로 하나 더 추가\n",
    "        if synonym:\n",
    "            vocab_list.append({\"word\": synonym, \"definition\": definition})\n",
    "\n",
    "# JS용 문자열로 변환\n",
    "js_code = \"const vocabList = \" + json.dumps(vocab_list, ensure_ascii=False, indent=2) + \";\"\n",
    "\n",
    "# 결과 저장\n",
    "with open(output_file, \"w\", encoding=\"utf-8\") as f:\n",
    "    f.write(js_code)\n",
    "\n",
    "print(\"✅ 변환 완료! ->\", output_file)\n"
   ]
  }
 ],
 "metadata": {
  "kernelspec": {
   "display_name": "torchenv",
   "language": "python",
   "name": "python3"
  },
  "language_info": {
   "codemirror_mode": {
    "name": "ipython",
    "version": 3
   },
   "file_extension": ".py",
   "mimetype": "text/x-python",
   "name": "python",
   "nbconvert_exporter": "python",
   "pygments_lexer": "ipython3",
   "version": "3.11.6"
  }
 },
 "nbformat": 4,
 "nbformat_minor": 5
}
